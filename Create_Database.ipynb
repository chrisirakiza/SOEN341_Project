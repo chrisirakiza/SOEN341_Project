{
 "cells": [
  {
   "cell_type": "code",
   "execution_count": 4,
   "id": "9778a5c6",
   "metadata": {
    "scrolled": true
   },
   "outputs": [
    {
     "name": "stdout",
     "output_type": "stream",
     "text": [
      "Connected to Server: Admin\n",
      "Query successful\n",
      "Created Database:  soen341\n",
      "Connected to Database:  soen341\n",
      "Query successful\n",
      "Query successful\n",
      "Query successful\n",
      "Query successful\n"
     ]
    }
   ],
   "source": [
    "import mysql.connector\n",
    "from mysql.connector import Error\n",
    "\n",
    "class design_database:\n",
    "            \n",
    "    host, user, pwd, dbName = '', '', '', ''\n",
    "    def __init__(self, host, user, password, dbName):\n",
    "        self.host = host\n",
    "        self.user = user\n",
    "        self.pwd = password\n",
    "        self.dbName = dbName\n",
    "        \n",
    "    #EXECUTE A QUERY\n",
    "        \n",
    "    def execute_query(self, connection, mysql_query):\n",
    "        cursor = connection.cursor()\n",
    "        try:\n",
    "            cursor.execute(mysql_query)\n",
    "            connection.commit()\n",
    "            print(\"Query successful\")\n",
    "        except Error as e:\n",
    "            print(\"Error: \", e)\n",
    "            \n",
    "    #READ DATA FROM DATABASE\n",
    "                        \n",
    "    def read_query(self, connection, mysql_query):\n",
    "        cursor = connection.cursor()\n",
    "        result = None\n",
    "        try:\n",
    "            cursor.execute(mysql_query)\n",
    "            result = cursor.fetchall()\n",
    "            return result\n",
    "        except Error as e:\n",
    "            print(\"Error: \", e)\n",
    "\n",
    "    #CONNECT TO THE MYSQL DATABASE\n",
    "            \n",
    "    def connect_to_database(self):\n",
    "        connection = None\n",
    "        try:\n",
    "            connection = mysql.connector.connect(host = self.host, user = self.user, passwd = self.pwd)\n",
    "            print(\"Connected to Server: Admin\")\n",
    "            existing_db = self.read_query(connection, \"SHOW DATABASES\")\n",
    "            if ('soen341',) not in existing_db:\n",
    "                self.execute_query(connection, \"CREATE DATABASE SOEN341\")\n",
    "                print(\"Created Database: \", self.dbName)\n",
    "\n",
    "            connection = mysql.connector.connect(host = self.host, user = self.user, passwd = self.pwd, database = self.dbName)\n",
    "            print(\"Connected to Database: \", self.dbName)\n",
    "        except Error as e:\n",
    "            print(\"Error: \", e)\n",
    "\n",
    "        return connection\n",
    "\n",
    "    #DESIGNING QUERIES TO BUILD DATABASE\n",
    "\n",
    "    create_table_user =                \"\"\"CREATE TABLE USER(\n",
    "                                            id INTEGER NOT NULL AUTO_INCREMENT,\n",
    "                                            name VARCHAR(100),\n",
    "                                            userID VARCHAR(10) PRIMARY KEY NOT NULL,\n",
    "                                            password VARCHAR(20),\n",
    "                                            userType VARCHAR(50),\n",
    "                                            INDEX(id))\"\"\"\n",
    "   \n",
    "    create_table_procurement_request = \"\"\"CREATE TABLE PROCUREMENT_REQUEST(\n",
    "                                            id INTEGER NOT NULL AUTO_INCREMENT,\n",
    "                                            requestNumber VARCHAR(20) PRIMARY KEY NOT NULL,\n",
    "                                            itemName VARCHAR(200),\n",
    "                                            generatedBy VARCHAR(100) REFERENCES USER(name),\n",
    "                                            assignedManager VARCHAR(100) REFERENCES USER(name),\n",
    "                                            status BOOLEAN DEFAULT(0),\n",
    "                                            acceptedQuoteID VARCHAR(10),\n",
    "                                            INDEX(id)\n",
    "                                            )\"\"\"\n",
    "    \n",
    "    create_table_quote =               \"\"\"CREATE TABLE QUOTE(\n",
    "                                            id INTEGER NOT NULL AUTO_INCREMENT, \n",
    "                                            quoteID VARCHAR(10) PRIMARY KEY NOT NULL,\n",
    "                                            requestID VARCHAR(20),\n",
    "                                            price FLOAT(7, 2),\n",
    "                                            supplierName VARCHAR(100) REFERENCES USER(name),\n",
    "                                            INDEX(id),\n",
    "                                            FOREIGN KEY (requestID) REFERENCES PROCUREMENT_REQUEST(requestNumber)\n",
    "                                            ON DELETE CASCADE)\"\"\"\n",
    "\n",
    "    create_table_company =             \"\"\"CREATE TABLE COMPANY(   \n",
    "                                            ID INTEGER PRIMARY KEY AUTO_INCREMENT,\n",
    "                                            supplierID VARCHAR(10),\n",
    "                                            supplierName VARCHAR(100) REFERENCES USER(name),\n",
    "                                            companyName VARCHAR(200),\n",
    "                                            productType VARCHAR(100),\n",
    "                                            contactInfo VARCHAR(200),\n",
    "\n",
    "                                            FOREIGN KEY (supplierID) REFERENCES USER(userID)\n",
    "                                            ON UPDATE CASCADE ON DELETE CASCADE\n",
    "                                            )\"\"\"\n",
    "    \n",
    "\n",
    "\n",
    "DB = design_database('localhost', 'root', '#Snroshan1998', \"soen341\")\n",
    "connection = DB.connect_to_database()\n",
    "\n",
    "DB.execute_query(connection, DB.create_table_user)\n",
    "DB.execute_query(connection, DB.create_table_procurement_request)\n",
    "DB.execute_query(connection, DB.create_table_quote)\n",
    "DB.execute_query(connection, DB.create_table_company)"
   ]
  },
  {
   "cell_type": "code",
   "execution_count": 25,
   "id": "e977c1c0",
   "metadata": {},
   "outputs": [
    {
     "name": "stdout",
     "output_type": "stream",
     "text": [
      "Connected to Server: Admin\n",
      "Connected to Database:  soen341\n"
     ]
    }
   ],
   "source": [
    "DB2 = design_database('localhost', 'root', '#Snroshan1998', \"soen341\")\n",
    "connection = DB2.connect_to_database()\n",
    "\n",
    "def add_user(name, user_id, password, user_type):\n",
    "    query_add_user = \"\"\" INSERT INTO USER VALUES (default, '%s', '%s', '%s', '%s')\"\"\"%(name, user_id, password, user_type)    \n",
    "    DB2.execute_query(connection, query_add_user)\n",
    "    \n",
    "def get_user(user_id):\n",
    "    query_get_user = \"\"\"SELECT * FROM USER WHERE USER.userID = \"%s\" \"\"\" %(user_id)\n",
    "    user_data = DB2.read_query(connection, query_get_user)\n",
    "    return user_data[0][1], user_data[0][2], user_data[0][3], user_data[0][4]\n",
    "\n",
    "def get_counter_value():\n",
    "    query_get_last_count = \"\"\"SELECT MAX(id) FROM USER\"\"\"\n",
    "    counter = DB2.read_query(connection, query_get_last_count)\n",
    "    return int(counter[0][0])"
   ]
  },
  {
   "cell_type": "code",
   "execution_count": 27,
   "id": "5d78c0c6",
   "metadata": {},
   "outputs": [
    {
     "name": "stdout",
     "output_type": "stream",
     "text": [
      "Error:  1062 (23000): Duplicate entry 'A0001' for key 'user.PRIMARY'\n",
      "('Rosh', 'A0000', 'bleh', 'Admin')\n"
     ]
    },
    {
     "data": {
      "text/plain": [
       "1"
      ]
     },
     "execution_count": 27,
     "metadata": {},
     "output_type": "execute_result"
    }
   ],
   "source": [
    "add_user('Rosh', 'A0001', 'bleh', 'Admin')\n",
    "print(get_user('A0000'))\n",
    "get_counter_value()"
   ]
  }
 ],
 "metadata": {
  "kernelspec": {
   "display_name": "Python 3 (ipykernel)",
   "language": "python",
   "name": "python3"
  },
  "language_info": {
   "codemirror_mode": {
    "name": "ipython",
    "version": 3
   },
   "file_extension": ".py",
   "mimetype": "text/x-python",
   "name": "python",
   "nbconvert_exporter": "python",
   "pygments_lexer": "ipython3",
   "version": "3.10.4"
  }
 },
 "nbformat": 4,
 "nbformat_minor": 5
}
